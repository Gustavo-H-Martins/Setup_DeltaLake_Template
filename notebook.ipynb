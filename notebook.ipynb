{
 "cells": [
  {
   "cell_type": "code",
   "execution_count": 1,
   "metadata": {},
   "outputs": [
    {
     "name": "stdout",
     "output_type": "stream",
     "text": [
      "   exemplo         teste   teste2\n",
      "0        1     lmclçmdfg  afgmk[]\n",
      "1        2    mkdfmslgkm      dfg\n",
      "2        3   afdkmsdlkfm     dsgd\n",
      "3        4  wsdkxmkldfsm        f\n",
      "4        5      fkmlsdfm       sg\n",
      "5        6      dkklsfmv       sg\n",
      "6        7      dkmsdflk        g\n",
      "7        8            ef     fgfd\n",
      "8        9            sd        g\n"
     ]
    }
   ],
   "source": [
    "from deltalake_setup import DeltaPandasHandler\n",
    "\n",
    "delta_pandas_handler = DeltaPandasHandler()\n",
    "\n",
    "# Ler um arquivo CSV usando pandas\n",
    "dataframe = delta_pandas_handler.read_csv(\"arquivo.csv\", sep=\";\", encoding=\"utf-8-sig\")\n",
    "\n",
    "# Registrar o DataFrame como uma tabela Delta em DuckDB\n",
    "delta_pandas_handler.register(\"dataframe\", dataframe)\n",
    "\n",
    "# Executar uma consulta SQL na tabela registrada\n",
    "resultado = delta_pandas_handler.sql(\"SELECT * FROM dataframe\")\n",
    "\n",
    "delta_pandas_handler.writer('./exemplo_delta/', data=resultado)\n",
    "\n",
    "# Exibir o resultado da consulta\n",
    "print(resultado)\n"
   ]
  }
 ],
 "metadata": {
  "kernelspec": {
   "display_name": "Setup_DeltaLake_Template-ytQ-s42Z",
   "language": "python",
   "name": "python3"
  },
  "language_info": {
   "codemirror_mode": {
    "name": "ipython",
    "version": 3
   },
   "file_extension": ".py",
   "mimetype": "text/x-python",
   "name": "python",
   "nbconvert_exporter": "python",
   "pygments_lexer": "ipython3",
   "version": "3.11.6"
  }
 },
 "nbformat": 4,
 "nbformat_minor": 2
}
